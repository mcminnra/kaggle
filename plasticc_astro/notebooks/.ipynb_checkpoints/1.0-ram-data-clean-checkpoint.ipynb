{
 "cells": [
  {
   "cell_type": "markdown",
   "metadata": {},
   "source": [
    "# Data Clean\n",
    "Ryder McMinn\n",
    "\n",
    "# Current Assumptions\n",
    "- 0 redshit = min distmod - in our galaxy\n",
    "- use specz when availible, otherwise use photoz"
   ]
  },
  {
   "cell_type": "code",
   "execution_count": 1,
   "metadata": {},
   "outputs": [],
   "source": [
    "import numpy as np\n",
    "import pandas as pd"
   ]
  },
  {
   "cell_type": "markdown",
   "metadata": {},
   "source": [
    "## Meta Data"
   ]
  },
  {
   "cell_type": "code",
   "execution_count": 2,
   "metadata": {},
   "outputs": [],
   "source": [
    "df_meta = pd.read_csv('../data/raw/training_set_metadata.csv')\n",
    "df_meta_test = pd.read_csv('../data/raw/test_set_metadata.csv')"
   ]
  },
  {
   "cell_type": "code",
   "execution_count": 3,
   "metadata": {},
   "outputs": [
    {
     "name": "stdout",
     "output_type": "stream",
     "text": [
      "                    Total   Percent\n",
      "distmod              2325  0.296254\n",
      "target                  0  0.000000\n",
      "mwebv                   0  0.000000\n",
      "hostgal_photoz_err      0  0.000000\n",
      "hostgal_photoz          0  0.000000\n",
      "hostgal_specz           0  0.000000\n",
      "ddf                     0  0.000000\n",
      "gal_b                   0  0.000000\n",
      "gal_l                   0  0.000000\n",
      "decl                    0  0.000000\n",
      "ra                      0  0.000000\n",
      "object_id               0  0.000000\n",
      "                      Total   Percent\n",
      "hostgal_specz       3372497  0.965532\n",
      "distmod              390510  0.111801\n",
      "mwebv                     0  0.000000\n",
      "hostgal_photoz_err        0  0.000000\n",
      "hostgal_photoz            0  0.000000\n",
      "ddf                       0  0.000000\n",
      "gal_b                     0  0.000000\n",
      "gal_l                     0  0.000000\n",
      "decl                      0  0.000000\n",
      "ra                        0  0.000000\n",
      "object_id                 0  0.000000\n"
     ]
    }
   ],
   "source": [
    "# Train\n",
    "# Missing Values Check\n",
    "# Generally throw away columns that are missing more than 15%\n",
    "\n",
    "total = df_meta.isnull().sum().sort_values(ascending=False)\n",
    "percent = (df_meta.isnull().sum()/df_meta.isnull().count()).sort_values(ascending=False)\n",
    "missing_data = pd.concat([total, percent], axis=1, keys=['Total', 'Percent'])\n",
    "print(missing_data)\n",
    "\n",
    "# Test\n",
    "# Missing Values Check\n",
    "# Generally throw away columns that are missing more than 15%\n",
    "total = df_meta_test.isnull().sum().sort_values(ascending=False)\n",
    "percent = (df_meta_test.isnull().sum()/df_meta_test.isnull().count()).sort_values(ascending=False)\n",
    "missing_data = pd.concat([total, percent], axis=1, keys=['Total', 'Percent'])\n",
    "print(missing_data)"
   ]
  },
  {
   "cell_type": "markdown",
   "metadata": {},
   "source": [
    "### distmod - Fill Distmod"
   ]
  },
  {
   "cell_type": "code",
   "execution_count": 4,
   "metadata": {},
   "outputs": [],
   "source": [
    "# The distance to the source calculated from hostgal_photoz and using general relativity\n",
    "# Fill with min distance since all hostgal_photoz for distmod is zero, meaning 0 red shift\n",
    "df_meta['distmod'].fillna(df_meta['distmod'].min(), inplace=True)\n",
    "df_meta_test['distmod'].fillna(df_meta_test['distmod'].min(), inplace=True)"
   ]
  },
  {
   "cell_type": "markdown",
   "metadata": {},
   "source": [
    "### hostgal_z - Convert to single redshift z with most accurate source"
   ]
  },
  {
   "cell_type": "code",
   "execution_count": 5,
   "metadata": {},
   "outputs": [],
   "source": [
    "# Train\n",
    "df_meta['hostgal_z'] = df_meta['hostgal_specz']\n",
    "\n",
    "# Test\n",
    "df_meta_test['hostgal_z'] = None\n",
    "df_meta_test['hostgal_z'] = df_meta_test['hostgal_z'].fillna(df_meta_test['hostgal_specz'])\n",
    "df_meta_test['hostgal_z'] = df_meta_test['hostgal_z'].fillna(df_meta_test['hostgal_photoz'])"
   ]
  },
  {
   "cell_type": "code",
   "execution_count": 6,
   "metadata": {},
   "outputs": [],
   "source": [
    "df_meta = df_meta.drop(['hostgal_specz', 'hostgal_photoz', 'hostgal_photoz_err'], axis=1)\n",
    "df_meta_test = df_meta_test.drop(['hostgal_specz', 'hostgal_photoz', 'hostgal_photoz_err'], axis=1)"
   ]
  },
  {
   "cell_type": "markdown",
   "metadata": {},
   "source": [
    "## Final"
   ]
  },
  {
   "cell_type": "code",
   "execution_count": 7,
   "metadata": {},
   "outputs": [
    {
     "name": "stdout",
     "output_type": "stream",
     "text": [
      "           Total  Percent\n",
      "hostgal_z      0      0.0\n",
      "target         0      0.0\n",
      "mwebv          0      0.0\n",
      "distmod        0      0.0\n",
      "ddf            0      0.0\n",
      "gal_b          0      0.0\n",
      "gal_l          0      0.0\n",
      "decl           0      0.0\n",
      "ra             0      0.0\n",
      "object_id      0      0.0\n",
      "           Total  Percent\n",
      "hostgal_z      0      0.0\n",
      "mwebv          0      0.0\n",
      "distmod        0      0.0\n",
      "ddf            0      0.0\n",
      "gal_b          0      0.0\n",
      "gal_l          0      0.0\n",
      "decl           0      0.0\n",
      "ra             0      0.0\n",
      "object_id      0      0.0\n"
     ]
    }
   ],
   "source": [
    "# Train\n",
    "# Missing Values Check\n",
    "# Generally throw away columns that are missing more than 15%\n",
    "\n",
    "total = df_meta.isnull().sum().sort_values(ascending=False)\n",
    "percent = (df_meta.isnull().sum()/df_meta.isnull().count()).sort_values(ascending=False)\n",
    "missing_data = pd.concat([total, percent], axis=1, keys=['Total', 'Percent'])\n",
    "print(missing_data)\n",
    "\n",
    "# Test\n",
    "# Missing Values Check\n",
    "# Generally throw away columns that are missing more than 15%\n",
    "total = df_meta_test.isnull().sum().sort_values(ascending=False)\n",
    "percent = (df_meta_test.isnull().sum()/df_meta_test.isnull().count()).sort_values(ascending=False)\n",
    "missing_data = pd.concat([total, percent], axis=1, keys=['Total', 'Percent'])\n",
    "print(missing_data)"
   ]
  },
  {
   "cell_type": "code",
   "execution_count": 8,
   "metadata": {},
   "outputs": [
    {
     "data": {
      "text/html": [
       "<div>\n",
       "<style scoped>\n",
       "    .dataframe tbody tr th:only-of-type {\n",
       "        vertical-align: middle;\n",
       "    }\n",
       "\n",
       "    .dataframe tbody tr th {\n",
       "        vertical-align: top;\n",
       "    }\n",
       "\n",
       "    .dataframe thead th {\n",
       "        text-align: right;\n",
       "    }\n",
       "</style>\n",
       "<table border=\"1\" class=\"dataframe\">\n",
       "  <thead>\n",
       "    <tr style=\"text-align: right;\">\n",
       "      <th></th>\n",
       "      <th>object_id</th>\n",
       "      <th>ra</th>\n",
       "      <th>decl</th>\n",
       "      <th>gal_l</th>\n",
       "      <th>gal_b</th>\n",
       "      <th>ddf</th>\n",
       "      <th>distmod</th>\n",
       "      <th>mwebv</th>\n",
       "      <th>target</th>\n",
       "      <th>hostgal_z</th>\n",
       "    </tr>\n",
       "  </thead>\n",
       "  <tbody>\n",
       "    <tr>\n",
       "      <th>0</th>\n",
       "      <td>615</td>\n",
       "      <td>349.046051</td>\n",
       "      <td>-61.943836</td>\n",
       "      <td>320.796530</td>\n",
       "      <td>-51.753706</td>\n",
       "      <td>1</td>\n",
       "      <td>31.9961</td>\n",
       "      <td>0.017</td>\n",
       "      <td>92</td>\n",
       "      <td>0.0000</td>\n",
       "    </tr>\n",
       "    <tr>\n",
       "      <th>1</th>\n",
       "      <td>713</td>\n",
       "      <td>53.085938</td>\n",
       "      <td>-27.784405</td>\n",
       "      <td>223.525509</td>\n",
       "      <td>-54.460748</td>\n",
       "      <td>1</td>\n",
       "      <td>45.4063</td>\n",
       "      <td>0.007</td>\n",
       "      <td>88</td>\n",
       "      <td>1.8181</td>\n",
       "    </tr>\n",
       "    <tr>\n",
       "      <th>2</th>\n",
       "      <td>730</td>\n",
       "      <td>33.574219</td>\n",
       "      <td>-6.579593</td>\n",
       "      <td>170.455585</td>\n",
       "      <td>-61.548219</td>\n",
       "      <td>1</td>\n",
       "      <td>40.2561</td>\n",
       "      <td>0.021</td>\n",
       "      <td>42</td>\n",
       "      <td>0.2320</td>\n",
       "    </tr>\n",
       "    <tr>\n",
       "      <th>3</th>\n",
       "      <td>745</td>\n",
       "      <td>0.189873</td>\n",
       "      <td>-45.586655</td>\n",
       "      <td>328.254458</td>\n",
       "      <td>-68.969298</td>\n",
       "      <td>1</td>\n",
       "      <td>40.7951</td>\n",
       "      <td>0.007</td>\n",
       "      <td>90</td>\n",
       "      <td>0.3037</td>\n",
       "    </tr>\n",
       "    <tr>\n",
       "      <th>4</th>\n",
       "      <td>1124</td>\n",
       "      <td>352.711273</td>\n",
       "      <td>-63.823658</td>\n",
       "      <td>316.922299</td>\n",
       "      <td>-51.059403</td>\n",
       "      <td>1</td>\n",
       "      <td>40.4166</td>\n",
       "      <td>0.024</td>\n",
       "      <td>90</td>\n",
       "      <td>0.1934</td>\n",
       "    </tr>\n",
       "  </tbody>\n",
       "</table>\n",
       "</div>"
      ],
      "text/plain": [
       "   object_id          ra       decl       gal_l      gal_b  ddf  distmod  \\\n",
       "0        615  349.046051 -61.943836  320.796530 -51.753706    1  31.9961   \n",
       "1        713   53.085938 -27.784405  223.525509 -54.460748    1  45.4063   \n",
       "2        730   33.574219  -6.579593  170.455585 -61.548219    1  40.2561   \n",
       "3        745    0.189873 -45.586655  328.254458 -68.969298    1  40.7951   \n",
       "4       1124  352.711273 -63.823658  316.922299 -51.059403    1  40.4166   \n",
       "\n",
       "   mwebv  target  hostgal_z  \n",
       "0  0.017      92     0.0000  \n",
       "1  0.007      88     1.8181  \n",
       "2  0.021      42     0.2320  \n",
       "3  0.007      90     0.3037  \n",
       "4  0.024      90     0.1934  "
      ]
     },
     "execution_count": 8,
     "metadata": {},
     "output_type": "execute_result"
    }
   ],
   "source": [
    "df_meta.head()"
   ]
  },
  {
   "cell_type": "code",
   "execution_count": 9,
   "metadata": {},
   "outputs": [],
   "source": [
    "df_meta.to_csv('../data/cleaned/training_meta_clean.csv', index=False)\n",
    "df_meta_test.to_csv('../data/cleaned/testing_meta_clean.csv', index=False)"
   ]
  },
  {
   "cell_type": "markdown",
   "metadata": {},
   "source": [
    "## Measurement Data"
   ]
  },
  {
   "cell_type": "code",
   "execution_count": 10,
   "metadata": {},
   "outputs": [],
   "source": [
    "df = pd.read_csv('../data/raw/training_set.csv')  # 1 gigs\n",
    "#df_test = pd.read_csv('../data/raw/test_set.csv')  # 19 gigs. Maybe not use pandas"
   ]
  },
  {
   "cell_type": "code",
   "execution_count": 11,
   "metadata": {},
   "outputs": [
    {
     "data": {
      "text/html": [
       "<div>\n",
       "<style scoped>\n",
       "    .dataframe tbody tr th:only-of-type {\n",
       "        vertical-align: middle;\n",
       "    }\n",
       "\n",
       "    .dataframe tbody tr th {\n",
       "        vertical-align: top;\n",
       "    }\n",
       "\n",
       "    .dataframe thead th {\n",
       "        text-align: right;\n",
       "    }\n",
       "</style>\n",
       "<table border=\"1\" class=\"dataframe\">\n",
       "  <thead>\n",
       "    <tr style=\"text-align: right;\">\n",
       "      <th></th>\n",
       "      <th>object_id</th>\n",
       "      <th>mjd</th>\n",
       "      <th>passband</th>\n",
       "      <th>flux</th>\n",
       "      <th>flux_err</th>\n",
       "      <th>detected</th>\n",
       "    </tr>\n",
       "  </thead>\n",
       "  <tbody>\n",
       "    <tr>\n",
       "      <th>0</th>\n",
       "      <td>615</td>\n",
       "      <td>59750.4229</td>\n",
       "      <td>2</td>\n",
       "      <td>-544.810303</td>\n",
       "      <td>3.622952</td>\n",
       "      <td>1</td>\n",
       "    </tr>\n",
       "    <tr>\n",
       "      <th>1</th>\n",
       "      <td>615</td>\n",
       "      <td>59750.4306</td>\n",
       "      <td>1</td>\n",
       "      <td>-816.434326</td>\n",
       "      <td>5.553370</td>\n",
       "      <td>1</td>\n",
       "    </tr>\n",
       "    <tr>\n",
       "      <th>2</th>\n",
       "      <td>615</td>\n",
       "      <td>59750.4383</td>\n",
       "      <td>3</td>\n",
       "      <td>-471.385529</td>\n",
       "      <td>3.801213</td>\n",
       "      <td>1</td>\n",
       "    </tr>\n",
       "    <tr>\n",
       "      <th>3</th>\n",
       "      <td>615</td>\n",
       "      <td>59750.4450</td>\n",
       "      <td>4</td>\n",
       "      <td>-388.984985</td>\n",
       "      <td>11.395031</td>\n",
       "      <td>1</td>\n",
       "    </tr>\n",
       "    <tr>\n",
       "      <th>4</th>\n",
       "      <td>615</td>\n",
       "      <td>59752.4070</td>\n",
       "      <td>2</td>\n",
       "      <td>-681.858887</td>\n",
       "      <td>4.041204</td>\n",
       "      <td>1</td>\n",
       "    </tr>\n",
       "  </tbody>\n",
       "</table>\n",
       "</div>"
      ],
      "text/plain": [
       "   object_id         mjd  passband        flux   flux_err  detected\n",
       "0        615  59750.4229         2 -544.810303   3.622952         1\n",
       "1        615  59750.4306         1 -816.434326   5.553370         1\n",
       "2        615  59750.4383         3 -471.385529   3.801213         1\n",
       "3        615  59750.4450         4 -388.984985  11.395031         1\n",
       "4        615  59752.4070         2 -681.858887   4.041204         1"
      ]
     },
     "execution_count": 11,
     "metadata": {},
     "output_type": "execute_result"
    }
   ],
   "source": [
    "df.head()"
   ]
  },
  {
   "cell_type": "code",
   "execution_count": 12,
   "metadata": {},
   "outputs": [
    {
     "name": "stdout",
     "output_type": "stream",
     "text": [
      "           Total  Percent\n",
      "detected       0      0.0\n",
      "flux_err       0      0.0\n",
      "flux           0      0.0\n",
      "passband       0      0.0\n",
      "mjd            0      0.0\n",
      "object_id      0      0.0\n"
     ]
    }
   ],
   "source": [
    "# Train\n",
    "# Missing Values Check\n",
    "# Generally throw away columns that are missing more than 15%\n",
    "\n",
    "total = df.isnull().sum().sort_values(ascending=False)\n",
    "percent = (df.isnull().sum()/df.isnull().count()).sort_values(ascending=False)\n",
    "missing_data = pd.concat([total, percent], axis=1, keys=['Total', 'Percent'])\n",
    "print(missing_data)"
   ]
  },
  {
   "cell_type": "markdown",
   "metadata": {},
   "source": [
    "Measurement data is more or less clean. Only needs sorted."
   ]
  }
 ],
 "metadata": {
  "kernelspec": {
   "display_name": "Python 3",
   "language": "python",
   "name": "python3"
  },
  "language_info": {
   "codemirror_mode": {
    "name": "ipython",
    "version": 3
   },
   "file_extension": ".py",
   "mimetype": "text/x-python",
   "name": "python",
   "nbconvert_exporter": "python",
   "pygments_lexer": "ipython3",
   "version": "3.6.6"
  }
 },
 "nbformat": 4,
 "nbformat_minor": 2
}
